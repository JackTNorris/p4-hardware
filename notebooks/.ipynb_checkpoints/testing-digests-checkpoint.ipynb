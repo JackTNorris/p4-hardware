{
 "cells": [
  {
   "cell_type": "code",
   "execution_count": 1,
   "id": "4fea2811-125d-4e36-ac42-5e2a281191c2",
   "metadata": {},
   "outputs": [],
   "source": [
    "import bfrt_grpc.client"
   ]
  },
  {
   "cell_type": "code",
   "execution_count": 2,
   "id": "402a6ff6-337f-44d9-9dfd-9a1046e24af3",
   "metadata": {},
   "outputs": [
    {
     "name": "stdout",
     "output_type": "stream",
     "text": [
      "<module 'bfrt_grpc' from '/home/onie/.local/lib/python3.8/site-packages/bfrt_grpc/__init__.py'>\n"
     ]
    }
   ],
   "source": [
    "print(bfrt_grpc)"
   ]
  },
  {
   "cell_type": "code",
   "execution_count": null,
   "id": "02ab3758-2f15-437d-94ae-aaa5d71836b2",
   "metadata": {},
   "outputs": [],
   "source": []
  }
 ],
 "metadata": {
  "kernelspec": {
   "display_name": "Python 3 (ipykernel)",
   "language": "python",
   "name": "python3"
  },
  "language_info": {
   "codemirror_mode": {
    "name": "ipython",
    "version": 3
   },
   "file_extension": ".py",
   "mimetype": "text/x-python",
   "name": "python",
   "nbconvert_exporter": "python",
   "pygments_lexer": "ipython3",
   "version": "3.8.10"
  }
 },
 "nbformat": 4,
 "nbformat_minor": 5
}
