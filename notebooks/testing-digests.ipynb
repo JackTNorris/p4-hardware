{
 "cells": [
  {
   "cell_type": "code",
   "execution_count": 16,
   "id": "4fea2811-125d-4e36-ac42-5e2a281191c2",
   "metadata": {},
   "outputs": [],
   "source": [
    "import bfrt_grpc"
   ]
  },
  {
   "cell_type": "code",
   "execution_count": 17,
   "id": "3b3892d1-52e7-455a-8ed8-b2dbadb68120",
   "metadata": {},
   "outputs": [
    {
     "ename": "ImportError",
     "evalue": "cannot import name 'bfrt_pb2' from 'bfrt_grpc' (/home/onie/.local/lib/python3.8/site-packages/bfrt_grpc/__init__.py)",
     "output_type": "error",
     "traceback": [
      "\u001b[0;31m---------------------------------------------------------------------------\u001b[0m",
      "\u001b[0;31mImportError\u001b[0m                               Traceback (most recent call last)",
      "Cell \u001b[0;32mIn[17], line 1\u001b[0m\n\u001b[0;32m----> 1\u001b[0m \u001b[38;5;28;01mfrom\u001b[39;00m \u001b[38;5;21;01mbfrt_grpc\u001b[39;00m \u001b[38;5;28;01mimport\u001b[39;00m bfrt_pb2\n",
      "\u001b[0;31mImportError\u001b[0m: cannot import name 'bfrt_pb2' from 'bfrt_grpc' (/home/onie/.local/lib/python3.8/site-packages/bfrt_grpc/__init__.py)"
     ]
    }
   ],
   "source": []
  },
  {
   "cell_type": "code",
   "execution_count": null,
   "id": "a0b322ef-320f-4806-8627-472a440f9438",
   "metadata": {},
   "outputs": [],
   "source": []
  }
 ],
 "metadata": {
  "kernelspec": {
   "display_name": "Python 3 (ipykernel)",
   "language": "python",
   "name": "python3"
  },
  "language_info": {
   "codemirror_mode": {
    "name": "ipython",
    "version": 3
   },
   "file_extension": ".py",
   "mimetype": "text/x-python",
   "name": "python",
   "nbconvert_exporter": "python",
   "pygments_lexer": "ipython3",
   "version": "3.8.10"
  }
 },
 "nbformat": 4,
 "nbformat_minor": 5
}
